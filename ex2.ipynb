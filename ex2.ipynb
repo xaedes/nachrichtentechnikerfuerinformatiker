{
 "metadata": {
  "name": "",
  "signature": "sha256:c0e39b3a0d5387502944ab619558a8520f4c503ee48904bd5b7669327f44d56f"
 },
 "nbformat": 3,
 "nbformat_minor": 0,
 "worksheets": [
  {
   "cells": [
    {
     "cell_type": "code",
     "collapsed": false,
     "input": [
      "%pylab inline\n",
      "from funcy import partial\n",
      "from collections import OrderedDict\n",
      "import scipy.signal"
     ],
     "language": "python",
     "metadata": {},
     "outputs": [
      {
       "output_type": "stream",
       "stream": "stdout",
       "text": [
        "Populating the interactive namespace from numpy and matplotlib\n"
       ]
      }
     ],
     "prompt_number": 199
    },
    {
     "cell_type": "code",
     "collapsed": false,
     "input": [
      "def f_rect(t):\n",
      "    result = np.zeros_like(t)\n",
      "    result[np.abs(t)<=1] = 1\n",
      "    return result"
     ],
     "language": "python",
     "metadata": {},
     "outputs": [],
     "prompt_number": 200
    },
    {
     "cell_type": "code",
     "collapsed": false,
     "input": [
      "def g_ramp(t):\n",
      "    result = np.zeros_like(t)\n",
      "    leq2 = np.abs(t)<=2\n",
      "    result[leq2] = np.exp(-2-t[leq2]) \n",
      "    return result"
     ],
     "language": "python",
     "metadata": {},
     "outputs": [],
     "prompt_number": 201
    },
    {
     "cell_type": "code",
     "collapsed": false,
     "input": [
      "t_min,t_max = -4,4\n",
      "n = 1000\n",
      "ts = np.linspace(t_min, t_max, n)"
     ],
     "language": "python",
     "metadata": {},
     "outputs": [],
     "prompt_number": 202
    },
    {
     "cell_type": "code",
     "collapsed": false,
     "input": [
      "def plot_functions(ts,functions,subplots=True,figsize=(15,4)):\n",
      "    plt.figure(figsize=figsize)\n",
      "    if not subplots:\n",
      "        ax = plt.subplot(111)\n",
      "        \n",
      "    n = len(functions)\n",
      "    for k,(name,function) in enumerate(functions):\n",
      "        if subplots:\n",
      "            ax = plt.subplot(1,n,k+1)\n",
      "        ax.grid()\n",
      "        ys = function(ts)\n",
      "        ax.set_ylim((0,max(ys.max(),1)+0.15,))\n",
      "        ax.plot(ts,ys,label=name)"
     ],
     "language": "python",
     "metadata": {},
     "outputs": [],
     "prompt_number": 203
    },
    {
     "cell_type": "code",
     "collapsed": false,
     "input": [
      "plot_functions(ts,[\n",
      "    (\"rect\",f_rect),\n",
      "    (\"ramp\",g_ramp)\n",
      "])"
     ],
     "language": "python",
     "metadata": {},
     "outputs": [
      {
       "metadata": {},
       "output_type": "display_data",
       "png": "[encoded data removed]",
       "text": [
        "<matplotlib.figure.Figure at 0x7fe39ad36890>"
       ]
      }
     ],
     "prompt_number": 204
    },
    {
     "cell_type": "code",
     "collapsed": false,
     "input": [
      "def convolve_np(f,g,ts):\n",
      "    res = np.convolve(f(ts),g(ts), 'same')\n",
      "    return res / res.max()"
     ],
     "language": "python",
     "metadata": {},
     "outputs": [],
     "prompt_number": 205
    },
    {
     "cell_type": "code",
     "collapsed": false,
     "input": [
      "def convolve_fft(f,g,ts):\n",
      "    dt = np.mean(np.diff(ts))\n",
      "    res = np.zeros_like(ts)\n",
      "    f_spectrum = np.fft.fft(f(ts))\n",
      "    g_spectrum = np.fft.fft(g(ts))\n",
      "    conv_spect = f_spectrum * g_spectrum\n",
      "    conv = np.fft.ifft(conv_spect)\n",
      "    conv = np.fft.fftshift(conv)\n",
      "    conv = conv * dt\n",
      "\n",
      "    return conv"
     ],
     "language": "python",
     "metadata": {},
     "outputs": [],
     "prompt_number": 206
    },
    {
     "cell_type": "code",
     "collapsed": false,
     "input": [
      "def convolve_scipyfft(f,g,ts):\n",
      "    dt = np.mean(np.diff(ts))\n",
      "    res = scipy.signal.fftconvolve(f(ts),g(ts), 'same')\n",
      "    res *= dt\n",
      "    return res "
     ],
     "language": "python",
     "metadata": {},
     "outputs": [],
     "prompt_number": 207
    },
    {
     "cell_type": "code",
     "collapsed": false,
     "input": [
      "plot_functions(ts,[\n",
      "    (\"rect\",f_rect),\n",
      "    (\"ramp\",g_ramp),\n",
      "    (\"conv_np\",partial(convolve_np,f_rect,g_ramp)),\n",
      "    (\"conv_fft\",partial(convolve_fft,f_rect,g_ramp)),\n",
      "    (\"conv_spfft\",partial(convolve_scipyfft,f_rect,g_ramp))\n",
      "])"
     ],
     "language": "python",
     "metadata": {},
     "outputs": [
      {
       "metadata": {},
       "output_type": "display_data",
       "png": "[encoded data removed]",
       "text": [
        "<matplotlib.figure.Figure at 0x7fe39a995fd0>"
       ]
      }
     ],
     "prompt_number": 208
    },
    {
     "cell_type": "code",
     "collapsed": false,
     "input": [
      "ts_benchmark = np.linspace(t_min,t_max,1000)"
     ],
     "language": "python",
     "metadata": {},
     "outputs": []
    },
    {
     "cell_type": "code",
     "collapsed": false,
     "input": [
      "%timeit convolve_np(f_rect,g_ramp,ts_benchmark)"
     ],
     "language": "python",
     "metadata": {},
     "outputs": []
    },
    {
     "cell_type": "code",
     "collapsed": false,
     "input": [
      "%timeit convolve_fft(f_rect,g_ramp,ts_benchmark)"
     ],
     "language": "python",
     "metadata": {},
     "outputs": []
    },
    {
     "cell_type": "code",
     "collapsed": false,
     "input": [
      "%timeit convolve_scipyfft(f_rect,g_ramp,ts_benchmark)"
     ],
     "language": "python",
     "metadata": {},
     "outputs": []
    },
    {
     "cell_type": "code",
     "collapsed": false,
     "input": [
      "def plot_at_t(t):\n",
      "    g = lambda ts:g_ramp(t-ts)\n",
      "    def conv(ts):\n",
      "        res = convolve_fft(f_rect,g_ramp,ts)\n",
      "        res[ts>t] = 0\n",
      "        return res\n",
      "    \n",
      "    plot_functions(ts,[\n",
      "        (\"rect\",f_rect),\n",
      "        (\"ramp\",g),\n",
      "        (\"conv\",conv)\n",
      "    ],subplots=False,figsize=(5,5))"
     ],
     "language": "python",
     "metadata": {},
     "outputs": []
    },
    {
     "cell_type": "code",
     "collapsed": false,
     "input": [
      "for k in range(-4,4):\n",
      "    plot_at_t(k)\n",
      "    "
     ],
     "language": "python",
     "metadata": {},
     "outputs": []
    },
    {
     "cell_type": "code",
     "collapsed": false,
     "input": [],
     "language": "python",
     "metadata": {},
     "outputs": []
    }
   ],
   "metadata": {}
  }
 ]
}